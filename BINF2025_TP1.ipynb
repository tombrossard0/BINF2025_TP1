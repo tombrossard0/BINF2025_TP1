{
 "cells": [
  {
   "cell_type": "markdown",
   "metadata": {
    "id": "BzSC6lZgtid-"
   },
   "source": [
    "# Exercice 0 : échauffement"
   ]
  },
  {
   "cell_type": "markdown",
   "metadata": {
    "id": "aZ1yf1CtsnPk"
   },
   "source": [
    "Dans ce TP nous allons représenter des distributions de données via différents types de graphes.\n",
    "\n",
    "Q1: Expliquez ce que représente et quand utiliser :\n",
    "\n",
    "\n",
    "*   un scatterplot\n",
    "*   un barplot\n",
    "*   un boxplot\n",
    "*   un violinplot\n",
    "*   un histogramme\n",
    "\n",
    "\n",
    "\n",
    "\n"
   ]
  },
  {
   "cell_type": "markdown",
   "metadata": {
    "id": "VyvImAWts4_h"
   },
   "source": [
    "```markdown\n",
    "- un scatterplot = Nuage de points : pour des données généralement nombreuses, éventuellement interprétable par l'identification de relations, répartitions plus ou moins homogènes (graphique avec pleins de points dans un espace à n dimensions).\n",
    "- un barplot = Graphique en barres : présenter des variables catégorielles avec des barres rectangulaires avec des hauteurs ou des longueurs proportionnelles aux valeurs qu'elles représentent.\n",
    "- un boxplot = boîte à moustache : figurer le profil essentiel d'une série statistique quantitative (out layers, écart-types, médiane, etc...).\n",
    "- un violinplot = tracé de violon : comparer des distributions de probabilité. Il est similaire à un diagramme en boîte, avec l'ajout d'un diagramme de densité de noyau pivoté de chaque côté.\n",
    "- un histogramme : résumer des données discrètes ou continues qui sont présentées par intervalles de valeurs (différent d'un graphique en barre qui ne résume pas des données discrètes ou continues).\n",
    "```"
   ]
  },
  {
   "cell_type": "markdown",
   "metadata": {
    "id": "Wf7mamjQt2aQ"
   },
   "source": [
    "# Exercice 1 : description de la base genbank"
   ]
  },
  {
   "cell_type": "markdown",
   "metadata": {
    "id": "Qtp_GvGzs8xr"
   },
   "source": [
    "La base de données genbank est un des principaux dépots de données de génomes, elle gérée par le NCBI Américain (National Center for Biotechnology Information).\n",
    "\n",
    "Dans cet exercice, allons étudier le contenu général de cette base de données en utilisant les fichiers de résumés."
   ]
  },
  {
   "cell_type": "markdown",
   "metadata": {
    "id": "hOS03wmjyxWX"
   },
   "source": [
    "---"
   ]
  },
  {
   "cell_type": "markdown",
   "metadata": {
    "id": "V3_Ytl_AypPn"
   },
   "source": [
    "Note technique : dans colab, vous pouvez monter votre google drive avec le code suivant :"
   ]
  },
  {
   "cell_type": "code",
   "execution_count": 8,
   "metadata": {
    "id": "mcpOIXziyvIt"
   },
   "outputs": [],
   "source": [
    "#from google.colab import drive\n",
    "#drive.mount('/content/gdrive')"
   ]
  },
  {
   "cell_type": "markdown",
   "metadata": {},
   "source": [
    "Par préférence personnelle, j'ai choisi d'utiliser la suite anaconda sur mon ordinateur. Les lignes ci-dessus sont donc à re-commenter si vous souhaitez utiliser google colab."
   ]
  },
  {
   "cell_type": "markdown",
   "metadata": {
    "id": "xf_z3wkSywXr"
   },
   "source": [
    "---"
   ]
  },
  {
   "cell_type": "markdown",
   "metadata": {
    "id": "Y_neXxKUtaq3"
   },
   "source": [
    "Q1. Téléchargez les fichier \"overview.txt\" et \"README\" disponibles ici :\n",
    "\n",
    " https://ftp.ncbi.nlm.nih.gov/genomes/GENOME_REPORTS/\n",
    "\n"
   ]
  },
  {
   "cell_type": "markdown",
   "metadata": {
    "id": "80dH8XR6uK1N"
   },
   "source": [
    "Q2. Quel est le format du fichier \"overview.txt\" ?"
   ]
  },
  {
   "cell_type": "markdown",
   "metadata": {
    "id": "SGowRH9cui_e"
   },
   "source": [
    "```markdown\n",
    "C'est un tableau en format \"tsv\" (csv mais avec des tabulations à la place de virgules).\n",
    "Chaque ligne est un organisme dans le fichier (à part l'header).\n",
    "Les colomnes sont décritent dans la réponse suivante.\n",
    "```"
   ]
  },
  {
   "cell_type": "markdown",
   "metadata": {
    "id": "R4m65wC5ufPL"
   },
   "source": [
    "Q3. Utilisez le fichier README pour comprendre ce que chaque colonne représente."
   ]
  },
  {
   "cell_type": "markdown",
   "metadata": {
    "id": "JJHy3UDRul7J"
   },
   "source": [
    "```markdown\n",
    "Organism/Name  Organism name at the species level according \n",
    "Kingdom        Taxonomic division: Archaea, Bacteria, Eukaryota, or Viruses \n",
    "Group                  Commonly used organism groups \n",
    "                       Eukaryota: Animals, Fungi, Plants, Protists;                           \n",
    "                       Prokaryota: group corresponds to phylum; \n",
    "                       Viruses: groups defined as the first level (not ranked)                        \n",
    "                       below the kingdom of Viruses\n",
    "\n",
    "SubGroup       NCBI Taxonomy level below group:\n",
    "                       Eukaryota: Mammals, Birds, Fishes, Flatworms, Insects, Amphibians\n",
    "                       Reptiles, Roundworms, Ascomycetes, Basidiomycetes, \n",
    "                       Land Plants, Green Algae, Apicomplexans, Kinetoplasts; \n",
    "                       Prokaryota: sub-groups correspond to class level; \n",
    "                       Viruses: sub-groups correspond to families including floating genera \n",
    "\n",
    "Size (Mb)      Estimated genome size \n",
    "Chrs           Number of chromosomes \n",
    "Organelles     Number of the organelles \n",
    "Plasmids       Number of plasmids \n",
    "BioProjects    Number of genome sequencing projects \n",
    "```"
   ]
  },
  {
   "cell_type": "markdown",
   "metadata": {
    "id": "K84ckFQvundb"
   },
   "source": [
    "## Organisation de la base de données"
   ]
  },
  {
   "cell_type": "markdown",
   "metadata": {
    "id": "SaU5LeGjuxC_"
   },
   "source": [
    "Q4. Combien d’organismes sont présents ?"
   ]
  },
  {
   "cell_type": "code",
   "execution_count": 18,
   "metadata": {},
   "outputs": [
    {
     "name": "stdout",
     "output_type": "stream",
     "text": [
      "87887\n"
     ]
    }
   ],
   "source": [
    "import pandas as pd\n",
    "\n",
    "def read_file(path, sep='\\t'):\n",
    "    tab = pd.read_csv(path, sep=sep, low_memory=False)\n",
    "    return tab\n",
    "\n",
    "tab = read_file(\"overview.txt\")\n",
    "organisms = tab[\"#Organism/Name\"]\n",
    "print(len(set(organisms))) # Nombre d'organismes présents dans le tableau"
   ]
  },
  {
   "cell_type": "code",
   "execution_count": 19,
   "metadata": {},
   "outputs": [
    {
     "data": {
      "text/html": [
       "<div>\n",
       "<style scoped>\n",
       "    .dataframe tbody tr th:only-of-type {\n",
       "        vertical-align: middle;\n",
       "    }\n",
       "\n",
       "    .dataframe tbody tr th {\n",
       "        vertical-align: top;\n",
       "    }\n",
       "\n",
       "    .dataframe thead th {\n",
       "        text-align: right;\n",
       "    }\n",
       "</style>\n",
       "<table border=\"1\" class=\"dataframe\">\n",
       "  <thead>\n",
       "    <tr style=\"text-align: right;\">\n",
       "      <th></th>\n",
       "      <th>#Organism/Name</th>\n",
       "      <th>Kingdom</th>\n",
       "      <th>Group</th>\n",
       "      <th>SubGroup</th>\n",
       "      <th>Size (Mb)</th>\n",
       "      <th>Chrs</th>\n",
       "      <th>Organelles</th>\n",
       "      <th>Plasmids</th>\n",
       "      <th>BioProjects</th>\n",
       "    </tr>\n",
       "  </thead>\n",
       "  <tbody>\n",
       "    <tr>\n",
       "      <th>0</th>\n",
       "      <td>'Brassica napus' phytoplasma</td>\n",
       "      <td>Bacteria</td>\n",
       "      <td>Terrabacteria group</td>\n",
       "      <td>Mycoplasmatota</td>\n",
       "      <td>0.743598</td>\n",
       "      <td>-</td>\n",
       "      <td>-</td>\n",
       "      <td>-</td>\n",
       "      <td>1</td>\n",
       "    </tr>\n",
       "    <tr>\n",
       "      <th>1</th>\n",
       "      <td>'Catharanthus roseus' aster yellows phytoplasma</td>\n",
       "      <td>Bacteria</td>\n",
       "      <td>Terrabacteria group</td>\n",
       "      <td>Mycoplasmatota</td>\n",
       "      <td>0.603949</td>\n",
       "      <td>1</td>\n",
       "      <td>-</td>\n",
       "      <td>1</td>\n",
       "      <td>1</td>\n",
       "    </tr>\n",
       "    <tr>\n",
       "      <th>2</th>\n",
       "      <td>'Chrysanthemum coronarium' phytoplasma</td>\n",
       "      <td>Bacteria</td>\n",
       "      <td>Terrabacteria group</td>\n",
       "      <td>Mycoplasmatota</td>\n",
       "      <td>0.739592</td>\n",
       "      <td>-</td>\n",
       "      <td>-</td>\n",
       "      <td>-</td>\n",
       "      <td>1</td>\n",
       "    </tr>\n",
       "    <tr>\n",
       "      <th>3</th>\n",
       "      <td>'Conium maculatum' witches'-broom phytoplasma</td>\n",
       "      <td>Bacteria</td>\n",
       "      <td>Terrabacteria group</td>\n",
       "      <td>Mycoplasmatota</td>\n",
       "      <td>0.758186</td>\n",
       "      <td>-</td>\n",
       "      <td>-</td>\n",
       "      <td>-</td>\n",
       "      <td>1</td>\n",
       "    </tr>\n",
       "    <tr>\n",
       "      <th>4</th>\n",
       "      <td>'Cynodon dactylon' phytoplasma</td>\n",
       "      <td>Bacteria</td>\n",
       "      <td>Terrabacteria group</td>\n",
       "      <td>Mycoplasmatota</td>\n",
       "      <td>0.483935</td>\n",
       "      <td>-</td>\n",
       "      <td>-</td>\n",
       "      <td>-</td>\n",
       "      <td>1</td>\n",
       "    </tr>\n",
       "    <tr>\n",
       "      <th>...</th>\n",
       "      <td>...</td>\n",
       "      <td>...</td>\n",
       "      <td>...</td>\n",
       "      <td>...</td>\n",
       "      <td>...</td>\n",
       "      <td>...</td>\n",
       "      <td>...</td>\n",
       "      <td>...</td>\n",
       "      <td>...</td>\n",
       "    </tr>\n",
       "    <tr>\n",
       "      <th>87883</th>\n",
       "      <td>Zymoseptoria crescenta</td>\n",
       "      <td>Eukaryota</td>\n",
       "      <td>Fungi</td>\n",
       "      <td>Ascomycetes</td>\n",
       "      <td>47.0329</td>\n",
       "      <td>-</td>\n",
       "      <td>-</td>\n",
       "      <td>-</td>\n",
       "      <td>1</td>\n",
       "    </tr>\n",
       "    <tr>\n",
       "      <th>87884</th>\n",
       "      <td>Zymoseptoria passerinii</td>\n",
       "      <td>Eukaryota</td>\n",
       "      <td>Fungi</td>\n",
       "      <td>Ascomycetes</td>\n",
       "      <td>28.7863</td>\n",
       "      <td>-</td>\n",
       "      <td>-</td>\n",
       "      <td>-</td>\n",
       "      <td>1</td>\n",
       "    </tr>\n",
       "    <tr>\n",
       "      <th>87885</th>\n",
       "      <td>Zymoseptoria pseudotritici</td>\n",
       "      <td>Eukaryota</td>\n",
       "      <td>Fungi</td>\n",
       "      <td>Ascomycetes</td>\n",
       "      <td>32.0973</td>\n",
       "      <td>-</td>\n",
       "      <td>-</td>\n",
       "      <td>-</td>\n",
       "      <td>6</td>\n",
       "    </tr>\n",
       "    <tr>\n",
       "      <th>87886</th>\n",
       "      <td>Zymoseptoria tritici</td>\n",
       "      <td>Eukaryota</td>\n",
       "      <td>Fungi</td>\n",
       "      <td>Ascomycetes</td>\n",
       "      <td>39.6863</td>\n",
       "      <td>21</td>\n",
       "      <td>1</td>\n",
       "      <td>-</td>\n",
       "      <td>51</td>\n",
       "    </tr>\n",
       "    <tr>\n",
       "      <th>87887</th>\n",
       "      <td>Zymoseptoria tritici fusarivirus 1</td>\n",
       "      <td>Viruses</td>\n",
       "      <td>Other</td>\n",
       "      <td>Fusariviridae</td>\n",
       "      <td>0.005969</td>\n",
       "      <td>1</td>\n",
       "      <td>-</td>\n",
       "      <td>-</td>\n",
       "      <td>1</td>\n",
       "    </tr>\n",
       "  </tbody>\n",
       "</table>\n",
       "<p>87888 rows × 9 columns</p>\n",
       "</div>"
      ],
      "text/plain": [
       "                                        #Organism/Name    Kingdom  \\\n",
       "0                         'Brassica napus' phytoplasma   Bacteria   \n",
       "1      'Catharanthus roseus' aster yellows phytoplasma   Bacteria   \n",
       "2               'Chrysanthemum coronarium' phytoplasma   Bacteria   \n",
       "3        'Conium maculatum' witches'-broom phytoplasma   Bacteria   \n",
       "4                       'Cynodon dactylon' phytoplasma   Bacteria   \n",
       "...                                                ...        ...   \n",
       "87883                           Zymoseptoria crescenta  Eukaryota   \n",
       "87884                          Zymoseptoria passerinii  Eukaryota   \n",
       "87885                       Zymoseptoria pseudotritici  Eukaryota   \n",
       "87886                             Zymoseptoria tritici  Eukaryota   \n",
       "87887               Zymoseptoria tritici fusarivirus 1    Viruses   \n",
       "\n",
       "                     Group        SubGroup Size (Mb) Chrs Organelles Plasmids  \\\n",
       "0      Terrabacteria group  Mycoplasmatota  0.743598    -          -        -   \n",
       "1      Terrabacteria group  Mycoplasmatota  0.603949    1          -        1   \n",
       "2      Terrabacteria group  Mycoplasmatota  0.739592    -          -        -   \n",
       "3      Terrabacteria group  Mycoplasmatota  0.758186    -          -        -   \n",
       "4      Terrabacteria group  Mycoplasmatota  0.483935    -          -        -   \n",
       "...                    ...             ...       ...  ...        ...      ...   \n",
       "87883                Fungi     Ascomycetes   47.0329    -          -        -   \n",
       "87884                Fungi     Ascomycetes   28.7863    -          -        -   \n",
       "87885                Fungi     Ascomycetes   32.0973    -          -        -   \n",
       "87886                Fungi     Ascomycetes   39.6863   21          1        -   \n",
       "87887                Other   Fusariviridae  0.005969    1          -        -   \n",
       "\n",
       "      BioProjects  \n",
       "0               1  \n",
       "1               1  \n",
       "2               1  \n",
       "3               1  \n",
       "4               1  \n",
       "...           ...  \n",
       "87883           1  \n",
       "87884           1  \n",
       "87885           6  \n",
       "87886          51  \n",
       "87887           1  \n",
       "\n",
       "[87888 rows x 9 columns]"
      ]
     },
     "execution_count": 19,
     "metadata": {},
     "output_type": "execute_result"
    }
   ],
   "source": [
    "read_file(\"overview.txt\")"
   ]
  },
  {
   "cell_type": "markdown",
   "metadata": {
    "id": "8YuUcejtu3s7"
   },
   "source": [
    "### Royaumes"
   ]
  },
  {
   "cell_type": "markdown",
   "metadata": {
    "id": "RRVqMrRvvGyk"
   },
   "source": [
    "Q5. Qu'est-ce qu'un royaume ?"
   ]
  },
  {
   "cell_type": "markdown",
   "metadata": {
    "id": "cgAZIG0_vJ2D"
   },
   "source": [
    "```markdown\n",
    "C'est une taxonomie (division).\n",
    "```"
   ]
  },
  {
   "cell_type": "markdown",
   "metadata": {
    "id": "WJjTWKxIvLbU"
   },
   "source": [
    "Q6. Combien de royaumes sont présents dans la base ?"
   ]
  },
  {
   "cell_type": "markdown",
   "metadata": {
    "id": "h5aS5XsqvRSp"
   },
   "source": [
    "```markdown\n",
    "4 royaumes sont présents dans la base : Archaea, Bacteria, Eukaryota, Viruses \n",
    "```"
   ]
  },
  {
   "cell_type": "markdown",
   "metadata": {
    "id": "YII_sIxavS3t"
   },
   "source": [
    "Q7. Affichez le nombre d’organismes pour chaque royaume."
   ]
  },
  {
   "cell_type": "code",
   "execution_count": 26,
   "metadata": {},
   "outputs": [
    {
     "name": "stdout",
     "output_type": "stream",
     "text": [
      "{'Bacteria': 37492, 'Viruses': 32573, 'Eukaryota': 15560, 'Archaea': 2263}\n"
     ]
    }
   ],
   "source": [
    "tab = pd.read_csv(\"overview.txt\", sep=\"\\t\", low_memory=False)\n",
    "kingdoms = {}\n",
    "\n",
    "for k in tab[\"Kingdom\"].unique():\n",
    "    kingdoms[k] = len(tab[(tab[\"Kingdom\"] == k)][\"Group\"])\n",
    "\n",
    "print(kingdoms)"
   ]
  },
  {
   "cell_type": "markdown",
   "metadata": {
    "id": "UnM-DgkPva-C"
   },
   "source": [
    "### Groupes"
   ]
  },
  {
   "cell_type": "markdown",
   "metadata": {
    "id": "KYmuKnmEve6V"
   },
   "source": [
    "Q8. Qu’est-ce qu’un groupe ?"
   ]
  },
  {
   "cell_type": "markdown",
   "metadata": {
    "id": "l8096_1CviTm"
   },
   "source": [
    "```markdown\n",
    "Dans chaque royaumes se trouvent des groupes.\n",
    "\n",
    "Préciser les groupes\n",
    "```"
   ]
  },
  {
   "cell_type": "markdown",
   "metadata": {
    "id": "4IB6jZImvj_-"
   },
   "source": [
    "Q9. Combien de groupes sont présents par royaume ?"
   ]
  },
  {
   "cell_type": "code",
   "execution_count": 31,
   "metadata": {},
   "outputs": [
    {
     "name": "stdout",
     "output_type": "stream",
     "text": [
      "Kingdom\n",
      "Archaea      11\n",
      "Bacteria     37\n",
      "Eukaryota     5\n",
      "Viruses       8\n",
      "Name: Group, dtype: int64\n"
     ]
    }
   ],
   "source": [
    "tab = pd.read_csv(\"overview.txt\", sep=\"\\t\", low_memory=False)\n",
    "print(tab.groupby(\"Kingdom\").nunique()[\"Group\"])"
   ]
  },
  {
   "cell_type": "markdown",
   "metadata": {
    "id": "vjSlkTyUvvvQ"
   },
   "source": [
    "Q10. Affichez pour chaque royaume le nombre d’organismes par groupe."
   ]
  },
  {
   "cell_type": "code",
   "execution_count": 33,
   "metadata": {
    "id": "dlBYqoZNv2Dj"
   },
   "outputs": [
    {
     "name": "stdout",
     "output_type": "stream",
     "text": [
      "Archaea\n",
      "\tAsgard group : 61\n",
      "\tCandidatus Hadarchaeota : 8\n",
      "\tCandidatus Hydrothermarchaeota : 6\n",
      "\tCandidatus Thermoplasmatota : 432\n",
      "\tDPANN group : 249\n",
      "\tEuryarchaeota : 1035\n",
      "\tHalobacteriota : 1\n",
      "\tOther : 1\n",
      "\tTACK group : 408\n",
      "\tenvironmental samples : 5\n",
      "\tunclassified Archaea : 57\n",
      "\n",
      "Bacteria\n",
      "\tAcidobacteriota : 256\n",
      "\tAquificota : 42\n",
      "\tAtribacterota : 43\n",
      "\tBacteria incertae sedis : 3872\n",
      "\tBdellovibrionota : 122\n",
      "\tCaldisericota/Cryosericota group : 21\n",
      "\tCalditrichota : 10\n",
      "\tCampylobacterota : 256\n",
      "\tCandidatus Deferrimicrobiota : 2\n",
      "\tCandidatus Hinthialibacterota : 2\n",
      "\tCandidatus Krumholzibacteriota : 4\n",
      "\tCandidatus Lernaellota : 2\n",
      "\tCandidatus Moduliflexota : 2\n",
      "\tCandidatus Tharpellota : 2\n",
      "\tChrysiogenota : 6\n",
      "\tCoprothermobacterota : 5\n",
      "\tDeferribacterota : 27\n",
      "\tDictyoglomota : 5\n",
      "\tElusimicrobiota : 118\n",
      "\tFCB group : 5037\n",
      "\tFusobacteriota : 79\n",
      "\tMyxococcota : 146\n",
      "\tNitrospinota/Tectimicrobiota group : 39\n",
      "\tNitrospirota : 156\n",
      "\tOther : 2\n",
      "\tPVC group : 1091\n",
      "\tPseudomonadota : 11098\n",
      "\tSpirochaetota : 344\n",
      "\tSynergistota : 85\n",
      "\tTerrabacteria group : 13337\n",
      "\tThermodesulfobacteriota : 568\n",
      "\tThermodesulfobiota : 2\n",
      "\tThermosulfidibacterota : 1\n",
      "\tThermotogota : 72\n",
      "\tdelta/epsilon subdivisions : 288\n",
      "\tenvironmental samples : 4\n",
      "\tunclassified Bacteria : 346\n",
      "\n",
      "Eukaryota\n",
      "\tAnimals : 7789\n",
      "\tFungi : 5213\n",
      "\tOther : 136\n",
      "\tPlants : 1758\n",
      "\tProtists : 664\n",
      "\n",
      "Viruses\n",
      "\tDeltavirus : 10\n",
      "\tOther : 30533\n",
      "\tSatellites : 65\n",
      "\tdsRNA viruses : 30\n",
      "\tunclassified archaeal viruses : 15\n",
      "\tunclassified phages : 1233\n",
      "\tunclassified virophages : 3\n",
      "\tunclassified viruses : 684\n",
      "\n"
     ]
    }
   ],
   "source": [
    "group_by_kingdom = {}\n",
    "for (kingdom, group), res in tab.groupby([\"Kingdom\", \"Group\"])[\"#Organism/Name\"].aggregate([\"count\"]).iterrows():\n",
    "    if not kingdom in group_by_kingdom:\n",
    "        group_by_kingdom[kingdom] = []\n",
    "    group_by_kingdom[kingdom].append(group + \" : \" + str(res.iloc[0]))\n",
    "\n",
    "for k in group_by_kingdom:\n",
    "    print(k)\n",
    "    for g in group_by_kingdom[k]:\n",
    "        print(\"\\t\" + g)\n",
    "    print()"
   ]
  },
  {
   "cell_type": "markdown",
   "metadata": {
    "id": "kgzvx6tRwBwt"
   },
   "source": [
    "## Génomes"
   ]
  },
  {
   "cell_type": "markdown",
   "metadata": {
    "id": "4uAGGteWwHAQ"
   },
   "source": [
    "Q11. Affichez la distribution des tailles de génomes sur toute la base de données, utilisez un boxplot ou un violinplot (avec axe en log pour y voir quelque chose)."
   ]
  },
  {
   "cell_type": "code",
   "execution_count": 36,
   "metadata": {
    "id": "FoQ74OYSwTBM"
   },
   "outputs": [
    {
     "name": "stdout",
     "output_type": "stream",
     "text": [
      "\n"
     ]
    },
    {
     "data": {
      "image/png": "[encoded data removed]",
      "text/plain": [
       "<Figure size 640x480 with 1 Axes>"
      ]
     },
     "metadata": {},
     "output_type": "display_data"
    }
   ],
   "source": [
    "import numpy as np\n",
    "import matplotlib.pyplot as plt\n",
    "\n",
    "print()\n",
    "\n",
    "data = [pd.to_numeric(tab[tab[\"Size (Mb)\"] != \"-\"][\"Size (Mb)\"]).to_numpy()]\n",
    "\n",
    "plt.boxplot(data)\n",
    "plt.yscale(\"log\")\n",
    "plt.title('Basic Violin Plot')\n",
    "plt.show()"
   ]
  },
  {
   "cell_type": "markdown",
   "metadata": {
    "id": "eIhDvcFQwm2n"
   },
   "source": [
    "Q12. Affichez la distribution par royaume."
   ]
  },
  {
   "cell_type": "code",
   "execution_count": 38,
   "metadata": {
    "id": "BefoaM92wv-t"
   },
   "outputs": [
    {
     "data": {
      "image/png": "[encoded data removed]",
      "text/plain": [
       "<Figure size 1000x1000 with 4 Axes>"
      ]
     },
     "metadata": {},
     "output_type": "display_data"
    }
   ],
   "source": [
    "import numpy as np\n",
    "import matplotlib.pyplot as plt\n",
    "\n",
    "fig, axes = plt.subplots(2, 2, figsize=(10, 10))\n",
    "axes = axes.flat\n",
    "\n",
    "for i, k in enumerate(kingdoms):\n",
    "    data = pd.to_numeric(tab[(tab[\"Size (Mb)\"] != \"-\") & (tab[\"Kingdom\"] == k)][\"Size (Mb)\"]).to_numpy()\n",
    "\n",
    "    axes[i].boxplot(data)\n",
    "    axes[i].set_yscale(\"log\")\n",
    "    axes[i].set_title(k + \" plot\")\n",
    "\n",
    "plt.tight_layout()\n",
    "plt.show()"
   ]
  },
  {
   "cell_type": "markdown",
   "metadata": {
    "id": "yY1MHFKGwxIr"
   },
   "source": [
    "Q13. Affichez la distribution par groupe pour chaque royaume."
   ]
  },
  {
   "cell_type": "code",
   "execution_count": 40,
   "metadata": {
    "id": "EEsZ2FDLw3Sz"
   },
   "outputs": [
    {
     "name": "stdout",
     "output_type": "stream",
     "text": [
      "Archaea\n",
      "\tAsgard group : 61\n",
      "\tCandidatus Hadarchaeota : 8\n",
      "\tCandidatus Hydrothermarchaeota : 6\n",
      "\tCandidatus Thermoplasmatota : 432\n",
      "\tDPANN group : 249\n",
      "\tEuryarchaeota : 1035\n",
      "\tHalobacteriota : 1\n",
      "\tOther : 1\n",
      "\tTACK group : 408\n",
      "\tenvironmental samples : 5\n",
      "\tunclassified Archaea : 57\n",
      "\n",
      "Bacteria\n",
      "\tAcidobacteriota : 256\n",
      "\tAquificota : 42\n",
      "\tAtribacterota : 43\n",
      "\tBacteria incertae sedis : 3872\n",
      "\tBdellovibrionota : 122\n",
      "\tCaldisericota/Cryosericota group : 21\n",
      "\tCalditrichota : 10\n",
      "\tCampylobacterota : 256\n",
      "\tCandidatus Deferrimicrobiota : 2\n",
      "\tCandidatus Hinthialibacterota : 2\n",
      "\tCandidatus Krumholzibacteriota : 4\n",
      "\tCandidatus Lernaellota : 2\n",
      "\tCandidatus Moduliflexota : 2\n",
      "\tCandidatus Tharpellota : 2\n",
      "\tChrysiogenota : 6\n",
      "\tCoprothermobacterota : 5\n",
      "\tDeferribacterota : 27\n",
      "\tDictyoglomota : 5\n",
      "\tElusimicrobiota : 118\n",
      "\tFCB group : 5037\n",
      "\tFusobacteriota : 79\n",
      "\tMyxococcota : 146\n",
      "\tNitrospinota/Tectimicrobiota group : 39\n",
      "\tNitrospirota : 156\n",
      "\tOther : 2\n",
      "\tPVC group : 1091\n",
      "\tPseudomonadota : 11098\n",
      "\tSpirochaetota : 344\n",
      "\tSynergistota : 85\n",
      "\tTerrabacteria group : 13337\n",
      "\tThermodesulfobacteriota : 568\n",
      "\tThermodesulfobiota : 2\n",
      "\tThermosulfidibacterota : 1\n",
      "\tThermotogota : 72\n",
      "\tdelta/epsilon subdivisions : 288\n",
      "\tenvironmental samples : 4\n",
      "\tunclassified Bacteria : 346\n",
      "\n",
      "Eukaryota\n",
      "\tAnimals : 7789\n",
      "\tFungi : 5213\n",
      "\tOther : 136\n",
      "\tPlants : 1758\n",
      "\tProtists : 664\n",
      "\n",
      "Viruses\n",
      "\tDeltavirus : 10\n",
      "\tOther : 30533\n",
      "\tSatellites : 65\n",
      "\tdsRNA viruses : 30\n",
      "\tunclassified archaeal viruses : 15\n",
      "\tunclassified phages : 1233\n",
      "\tunclassified virophages : 3\n",
      "\tunclassified viruses : 684\n",
      "\n"
     ]
    }
   ],
   "source": [
    "for k in group_by_kingdom:\n",
    "    print(k)\n",
    "    for g in group_by_kingdom[k]:\n",
    "        print(\"\\t\" + g)\n",
    "    print()"
   ]
  },
  {
   "cell_type": "markdown",
   "metadata": {
    "id": "dM9aQnstxGLb"
   },
   "source": [
    "Q14. Pour chaque royaume, donnez le nom et la taille de l’organisme avec le plus petit génome."
   ]
  },
  {
   "cell_type": "code",
   "execution_count": 42,
   "metadata": {
    "id": "zJgE62MtxP9a"
   },
   "outputs": [
    {
     "data": {
      "text/html": [
       "<div>\n",
       "<style scoped>\n",
       "    .dataframe tbody tr th:only-of-type {\n",
       "        vertical-align: middle;\n",
       "    }\n",
       "\n",
       "    .dataframe tbody tr th {\n",
       "        vertical-align: top;\n",
       "    }\n",
       "\n",
       "    .dataframe thead th {\n",
       "        text-align: right;\n",
       "    }\n",
       "</style>\n",
       "<table border=\"1\" class=\"dataframe\">\n",
       "  <thead>\n",
       "    <tr style=\"text-align: right;\">\n",
       "      <th></th>\n",
       "      <th>Kingdom</th>\n",
       "      <th>#Organism/Name</th>\n",
       "      <th>Size (Mb)</th>\n",
       "    </tr>\n",
       "  </thead>\n",
       "  <tbody>\n",
       "    <tr>\n",
       "      <th>13060</th>\n",
       "      <td>Archaea</td>\n",
       "      <td>candidate division MSBL1 archaeon SCGC-AAA385M02</td>\n",
       "      <td>0.137797</td>\n",
       "    </tr>\n",
       "    <tr>\n",
       "      <th>7691</th>\n",
       "      <td>Bacteria</td>\n",
       "      <td>bacterium AG-323-L21</td>\n",
       "      <td>0.101587</td>\n",
       "    </tr>\n",
       "    <tr>\n",
       "      <th>33850</th>\n",
       "      <td>Eukaryota</td>\n",
       "      <td>Fragilariopsis kerguelensis</td>\n",
       "      <td>0.010223</td>\n",
       "    </tr>\n",
       "    <tr>\n",
       "      <th>38605</th>\n",
       "      <td>Viruses</td>\n",
       "      <td>Hippotragine gammaherpesvirus 1</td>\n",
       "      <td>0.000174</td>\n",
       "    </tr>\n",
       "  </tbody>\n",
       "</table>\n",
       "</div>"
      ],
      "text/plain": [
       "         Kingdom                                    #Organism/Name  Size (Mb)\n",
       "13060    Archaea  candidate division MSBL1 archaeon SCGC-AAA385M02   0.137797\n",
       "7691    Bacteria                              bacterium AG-323-L21   0.101587\n",
       "33850  Eukaryota                       Fragilariopsis kerguelensis   0.010223\n",
       "38605    Viruses                   Hippotragine gammaherpesvirus 1   0.000174"
      ]
     },
     "execution_count": 42,
     "metadata": {},
     "output_type": "execute_result"
    }
   ],
   "source": [
    "tabWithSize = tab.loc[tab[\"Size (Mb)\"] != \"-\"].copy()\n",
    "tabWithSize[\"Size (Mb)\"] = pd.to_numeric(tabWithSize[\"Size (Mb)\"])\n",
    "\n",
    "min_indices = tabWithSize.groupby(\"Kingdom\")[\"Size (Mb)\"].idxmin()\n",
    "tabWithSize.loc[min_indices, [\"Kingdom\", \"#Organism/Name\", \"Size (Mb)\"]]"
   ]
  },
  {
   "cell_type": "markdown",
   "metadata": {
    "id": "ZtKBn_QTxRW5"
   },
   "source": [
    "Q15. Même chose mais pour l'organisme avec le plus grand génome."
   ]
  },
  {
   "cell_type": "code",
   "execution_count": 44,
   "metadata": {
    "id": "qf5pbziExVeA"
   },
   "outputs": [
    {
     "data": {
      "text/html": [
       "<div>\n",
       "<style scoped>\n",
       "    .dataframe tbody tr th:only-of-type {\n",
       "        vertical-align: middle;\n",
       "    }\n",
       "\n",
       "    .dataframe tbody tr th {\n",
       "        vertical-align: top;\n",
       "    }\n",
       "\n",
       "    .dataframe thead th {\n",
       "        text-align: right;\n",
       "    }\n",
       "</style>\n",
       "<table border=\"1\" class=\"dataframe\">\n",
       "  <thead>\n",
       "    <tr style=\"text-align: right;\">\n",
       "      <th></th>\n",
       "      <th>Kingdom</th>\n",
       "      <th>#Organism/Name</th>\n",
       "      <th>Size (Mb)</th>\n",
       "    </tr>\n",
       "  </thead>\n",
       "  <tbody>\n",
       "    <tr>\n",
       "      <th>5108</th>\n",
       "      <td>Archaea</td>\n",
       "      <td>archaeon</td>\n",
       "      <td>13.3999</td>\n",
       "    </tr>\n",
       "    <tr>\n",
       "      <th>81774</th>\n",
       "      <td>Bacteria</td>\n",
       "      <td>Thiomonas</td>\n",
       "      <td>25.1426</td>\n",
       "    </tr>\n",
       "    <tr>\n",
       "      <th>85849</th>\n",
       "      <td>Eukaryota</td>\n",
       "      <td>Viscum album</td>\n",
       "      <td>91113.7000</td>\n",
       "    </tr>\n",
       "    <tr>\n",
       "      <th>84080</th>\n",
       "      <td>Viruses</td>\n",
       "      <td>uncultured virus</td>\n",
       "      <td>1150.6800</td>\n",
       "    </tr>\n",
       "  </tbody>\n",
       "</table>\n",
       "</div>"
      ],
      "text/plain": [
       "         Kingdom    #Organism/Name   Size (Mb)\n",
       "5108     Archaea          archaeon     13.3999\n",
       "81774   Bacteria         Thiomonas     25.1426\n",
       "85849  Eukaryota      Viscum album  91113.7000\n",
       "84080    Viruses  uncultured virus   1150.6800"
      ]
     },
     "execution_count": 44,
     "metadata": {},
     "output_type": "execute_result"
    }
   ],
   "source": [
    "tabWithSize = tab.loc[tab[\"Size (Mb)\"] != \"-\"].copy()\n",
    "tabWithSize[\"Size (Mb)\"] = pd.to_numeric(tabWithSize[\"Size (Mb)\"])\n",
    "\n",
    "min_indices = tabWithSize.groupby(\"Kingdom\")[\"Size (Mb)\"].idxmax()\n",
    "tabWithSize.loc[min_indices, [\"Kingdom\", \"#Organism/Name\", \"Size (Mb)\"]]"
   ]
  },
  {
   "cell_type": "markdown",
   "metadata": {
    "id": "3yXU3wfixjlY"
   },
   "source": [
    "## Chromosomes"
   ]
  },
  {
   "cell_type": "markdown",
   "metadata": {
    "id": "d86DeXm6xl95"
   },
   "source": [
    "Q16. Affichez la distribution du nombre de chromosomes, sous la forme d’un histogramme, sur toute la base de données."
   ]
  },
  {
   "cell_type": "code",
   "execution_count": 47,
   "metadata": {
    "id": "cVgVRe82xxDu"
   },
   "outputs": [
    {
     "data": {
      "text/plain": [
       "(array([4.1816e+04, 1.0380e+03, 1.0540e+03, 2.0900e+02, 5.7000e+01,\n",
       "        1.4000e+01, 1.1000e+01, 4.0000e+00, 4.0000e+00, 1.3000e+01]),\n",
       " array([  1. ,  11.4,  21.8,  32.2,  42.6,  53. ,  63.4,  73.8,  84.2,\n",
       "         94.6, 105. ]),\n",
       " <BarContainer object of 10 artists>)"
      ]
     },
     "execution_count": 47,
     "metadata": {},
     "output_type": "execute_result"
    },
    {
     "data": {
      "image/png": "[encoded data removed]",
      "text/plain": [
       "<Figure size 640x480 with 1 Axes>"
      ]
     },
     "metadata": {},
     "output_type": "display_data"
    }
   ],
   "source": [
    "bins = tab[\"Chrs\"].size\n",
    "chrs = pd.to_numeric(tab[tab[\"Chrs\"] != \"-\"][\"Chrs\"]).to_numpy()\n",
    "plt.hist(chrs)"
   ]
  },
  {
   "cell_type": "markdown",
   "metadata": {
    "id": "zI3OY3idxyRz"
   },
   "source": [
    "Q17. Même chose mais pour chaque royaume sous la forme d'un boxplot (ou violinplot)."
   ]
  },
  {
   "cell_type": "code",
   "execution_count": 49,
   "metadata": {
    "id": "o_2RXVfZx9r9"
   },
   "outputs": [
    {
     "data": {
      "image/png": "[encoded data removed]",
      "text/plain": [
       "<Figure size 1000x1000 with 4 Axes>"
      ]
     },
     "metadata": {},
     "output_type": "display_data"
    }
   ],
   "source": [
    "fig, axes = plt.subplots(2, 2, figsize=(10, 10))\n",
    "axes = axes.flat\n",
    "\n",
    "for i, k in enumerate(kingdoms):\n",
    "    data = pd.to_numeric(tab[(tab[\"Chrs\"] != \"-\") & (tab[\"Kingdom\"] == k)][\"Chrs\"]).to_numpy()\n",
    "\n",
    "    axes[i].boxplot(data)\n",
    "    #axes[i].set_yscale(\"log\")\n",
    "    axes[i].set_title(k + \" plot\")\n",
    "\n",
    "plt.tight_layout()\n",
    "plt.show()"
   ]
  },
  {
   "cell_type": "markdown",
   "metadata": {
    "id": "26zBhs_sx_Yn"
   },
   "source": [
    "Q18. Qu’observez-vous ? Comment l’expliquez-vous ?"
   ]
  },
  {
   "cell_type": "markdown",
   "metadata": {
    "id": "i_pRzRMKyBr3"
   },
   "source": [
    "```markdown\n",
    "Votre réponse ici\n",
    "```"
   ]
  },
  {
   "cell_type": "markdown",
   "metadata": {
    "id": "-W14JDk6yILU"
   },
   "source": [
    "Q19. Pour les Eucaryotes uniquement, affichez la distribution du nombre de chromosomes sous la forme d’un histogramme."
   ]
  },
  {
   "cell_type": "code",
   "execution_count": 53,
   "metadata": {
    "id": "9Z7y7SvoyUB7"
   },
   "outputs": [
    {
     "data": {
      "text/plain": [
       "(array([ 17.,  14.,  57.,  71., 106., 185., 178., 138., 108., 129., 191.,\n",
       "        157., 123., 133.,  84.,  90.,  65., 114., 108.,  69.,  53.,  81.,\n",
       "         79., 195.,  92.,  42.,  24.,  63.,  57., 105., 200.,  95.,  27.,\n",
       "         22.,  23.,  32.,  16.,  15.,   9.,  21.,  28.,   6.,   6.,   5.,\n",
       "          4.,  11.,   0.,   2.,   4.,  12.,   4.,   2.,   0.,   2.,   0.,\n",
       "          1.,   1.,   2.,   0.,   2.,   0.,   0.,   1.,   1.,   0.,   0.,\n",
       "          0.,   1.,   0.,   1.,   0.,   1.,   2.,   0.,   0.,   0.,   0.,\n",
       "          0.,   0.,   1.,   0.,   1.,   0.,   0.,   1.,   0.,   0.,   1.,\n",
       "          0.,   2.,   0.,   0.,   0.,   0.,   0.,   0.,   0.,   0.,   5.,\n",
       "          1.]),\n",
       " array([  1.  ,   1.99,   2.98,   3.97,   4.96,   5.95,   6.94,   7.93,\n",
       "          8.92,   9.91,  10.9 ,  11.89,  12.88,  13.87,  14.86,  15.85,\n",
       "         16.84,  17.83,  18.82,  19.81,  20.8 ,  21.79,  22.78,  23.77,\n",
       "         24.76,  25.75,  26.74,  27.73,  28.72,  29.71,  30.7 ,  31.69,\n",
       "         32.68,  33.67,  34.66,  35.65,  36.64,  37.63,  38.62,  39.61,\n",
       "         40.6 ,  41.59,  42.58,  43.57,  44.56,  45.55,  46.54,  47.53,\n",
       "         48.52,  49.51,  50.5 ,  51.49,  52.48,  53.47,  54.46,  55.45,\n",
       "         56.44,  57.43,  58.42,  59.41,  60.4 ,  61.39,  62.38,  63.37,\n",
       "         64.36,  65.35,  66.34,  67.33,  68.32,  69.31,  70.3 ,  71.29,\n",
       "         72.28,  73.27,  74.26,  75.25,  76.24,  77.23,  78.22,  79.21,\n",
       "         80.2 ,  81.19,  82.18,  83.17,  84.16,  85.15,  86.14,  87.13,\n",
       "         88.12,  89.11,  90.1 ,  91.09,  92.08,  93.07,  94.06,  95.05,\n",
       "         96.04,  97.03,  98.02,  99.01, 100.  ]),\n",
       " <BarContainer object of 100 artists>)"
      ]
     },
     "execution_count": 53,
     "metadata": {},
     "output_type": "execute_result"
    },
    {
     "data": {
      "image/png": "[encoded data removed]",
      "text/plain": [
       "<Figure size 640x480 with 1 Axes>"
      ]
     },
     "metadata": {},
     "output_type": "display_data"
    }
   ],
   "source": [
    "data = pd.to_numeric(tab[(tab[\"Chrs\"] != \"-\") & (tab[\"Kingdom\"] == \"Eukaryota\")][\"Chrs\"]).to_numpy()\n",
    "plt.hist(data, bins=100)"
   ]
  },
  {
   "cell_type": "markdown",
   "metadata": {
    "id": "fjZgGKMByVQq"
   },
   "source": [
    "Q20. Pour les Eucaryotes uniquement, affichez la taille des génomes en fonction du nombre de chromosomes, sous forme d'un graphe (scatter plot)."
   ]
  },
  {
   "cell_type": "code",
   "execution_count": 55,
   "metadata": {
    "id": "TexCG9hSyoRN"
   },
   "outputs": [
    {
     "data": {
      "text/plain": [
       "Text(0, 0.5, 'Chromosomes')"
      ]
     },
     "execution_count": 55,
     "metadata": {},
     "output_type": "execute_result"
    },
    {
     "data": {
      "image/png": "[encoded data removed]",
      "text/plain": [
       "<Figure size 640x480 with 1 Axes>"
      ]
     },
     "metadata": {},
     "output_type": "display_data"
    }
   ],
   "source": [
    "dataX = pd.to_numeric(tab[(tab[\"Chrs\"] != \"-\") & (tab[\"Kingdom\"] == \"Eukaryota\")][\"Size (Mb)\"]).to_numpy()\n",
    "dataY = pd.to_numeric(tab[(tab[\"Chrs\"] != \"-\") & (tab[\"Kingdom\"] == \"Eukaryota\")][\"Chrs\"]).to_numpy()\n",
    "\n",
    "plt.plot(dataX, dataY, \".\")\n",
    "plt.xlabel(\"size (Mb)\")\n",
    "plt.ylabel(\"Chromosomes\")"
   ]
  },
  {
   "cell_type": "markdown",
   "metadata": {
    "id": "FV02vWsyypa3"
   },
   "source": [
    "Q21. Qu’observez-vous ?"
   ]
  },
  {
   "cell_type": "markdown",
   "metadata": {
    "id": "SM7IZWZcyrJb"
   },
   "source": [
    "```markdown\n",
    "Votre réponse ici\n",
    "```"
   ]
  },
  {
   "cell_type": "markdown",
   "metadata": {
    "id": "NiPmjrf30cKM"
   },
   "source": [
    "## Plasmides"
   ]
  },
  {
   "cell_type": "markdown",
   "metadata": {
    "id": "_qSxLqcD0eDd"
   },
   "source": [
    "Q22. Qu'est-ce qu'un plasmide ?"
   ]
  },
  {
   "cell_type": "markdown",
   "metadata": {
    "id": "JQFkXghg0iXM"
   },
   "source": [
    "```markdown\n",
    "Les plasmides sont des petits fragments d'ADN circulaire présents dans la cellule bactérienne et indépendants du génome bactérien.\n",
    "Source : https://genet.univ-tours.fr/gen001300_fichiers/CHAP5D/GEN05D1EC35.HTM\n",
    "```"
   ]
  },
  {
   "cell_type": "markdown",
   "metadata": {
    "id": "5vh9uq-20jv_"
   },
   "source": [
    "Q23. Affichez le nombre moyen de plasmides par royaume, sous forme d'un barplot."
   ]
  },
  {
   "cell_type": "code",
   "execution_count": 62,
   "metadata": {
    "id": "n2-rF_H40pEP"
   },
   "outputs": [
    {
     "name": "stdout",
     "output_type": "stream",
     "text": [
      "[0.27355425601039635, 0.3278272925331749, 0.2777777777777778, nan]\n"
     ]
    },
    {
     "name": "stderr",
     "output_type": "stream",
     "text": [
      "C:\\Users\\tombr\\anaconda3\\envs\\tf-gpu\\lib\\site-packages\\numpy\\core\\fromnumeric.py:3432: RuntimeWarning: Mean of empty slice.\n",
      "  return _methods._mean(a, axis=axis, dtype=dtype,\n",
      "C:\\Users\\tombr\\anaconda3\\envs\\tf-gpu\\lib\\site-packages\\numpy\\core\\_methods.py:190: RuntimeWarning: invalid value encountered in double_scalars\n",
      "  ret = ret.dtype.type(ret / rcount)\n"
     ]
    },
    {
     "data": {
      "text/plain": [
       "<BarContainer object of 4 artists>"
      ]
     },
     "execution_count": 62,
     "metadata": {},
     "output_type": "execute_result"
    },
    {
     "data": {
      "image/png": "[encoded data removed]",
      "text/plain": [
       "<Figure size 640x480 with 1 Axes>"
      ]
     },
     "metadata": {},
     "output_type": "display_data"
    }
   ],
   "source": [
    "res = []\n",
    "kingdoms = np.unique(tab[\"Kingdom\"])\n",
    "tab2 = tab.copy()\n",
    "tab2[tab2[\"Plasmids\"] == \"-\"] = 0\n",
    "\n",
    "for i, k in enumerate(kingdoms):\n",
    "    p = tab2[(tab2[\"Kingdom\"] == k)][\"Plasmids\"]\n",
    "    l = pd.to_numeric(p).to_numpy()\n",
    "    l2 = np.concatenate((l, np.zeros(tab2[(tab2[\"Kingdom\"] == k)].size - p.size)))\n",
    "    m = np.mean(l2)\n",
    "    res.append(m)\n",
    "\n",
    "print(res)\n",
    "plt.bar(kingdoms, res)"
   ]
  },
  {
   "cell_type": "markdown",
   "metadata": {
    "id": "-Hu-eCtU02k-"
   },
   "source": [
    "Q24. Qu'observez-vous ?"
   ]
  },
  {
   "cell_type": "markdown",
   "metadata": {
    "id": "WkTWMBr5058t"
   },
   "source": [
    "```markdown\n",
    "Votre réponse ici\n",
    "```"
   ]
  },
  {
   "cell_type": "markdown",
   "metadata": {
    "id": "-FGOVzG71Bpd"
   },
   "source": [
    "## Projets"
   ]
  },
  {
   "cell_type": "markdown",
   "metadata": {
    "id": "_KT0WqxQ1D5L"
   },
   "source": [
    "Q25. Qu'est-ce qu'un projet ?"
   ]
  },
  {
   "cell_type": "markdown",
   "metadata": {
    "id": "2CT6wDfL1HAA"
   },
   "source": [
    "```markdown\n",
    "Votre réponse ici\n",
    "```"
   ]
  },
  {
   "cell_type": "markdown",
   "metadata": {
    "id": "oyB0YYcr1IWI"
   },
   "source": [
    "Q26. Affichez le nombre de projets moyen par organisme pour chaque royaume, sous forme d'un barplot."
   ]
  },
  {
   "cell_type": "code",
   "execution_count": 69,
   "metadata": {
    "id": "R-F83W0B1RK5"
   },
   "outputs": [],
   "source": [
    "#Votre code ici"
   ]
  },
  {
   "cell_type": "markdown",
   "metadata": {
    "id": "I0smAhux1UVu"
   },
   "source": [
    "Q27. Combien d'organismes ont 0 projets ?"
   ]
  },
  {
   "cell_type": "code",
   "execution_count": 71,
   "metadata": {
    "id": "D0ftzo5v1Yhg"
   },
   "outputs": [],
   "source": [
    "#Votre code ici"
   ]
  },
  {
   "cell_type": "markdown",
   "metadata": {
    "id": "DWe4pEPk1Zh4"
   },
   "source": [
    "Q28. Combien d'organismes ont > 1 projets ?"
   ]
  },
  {
   "cell_type": "code",
   "execution_count": 73,
   "metadata": {
    "id": "ufa4IZ4D1dzM"
   },
   "outputs": [],
   "source": [
    "#Votre code ici"
   ]
  },
  {
   "cell_type": "markdown",
   "metadata": {
    "id": "69GLhgJm1f6I"
   },
   "source": [
    "Q29. Affichez le nom et nombre du TOP 5 des organismes possédant le plus de projets."
   ]
  },
  {
   "cell_type": "code",
   "execution_count": 75,
   "metadata": {
    "id": "sno2DqXD1mOU"
   },
   "outputs": [],
   "source": [
    "#Votre code ici"
   ]
  },
  {
   "cell_type": "markdown",
   "metadata": {
    "id": "cuver9rX1ofM"
   },
   "source": [
    "Q30. Expliquez rapidement pourquoi ces organismes sont les plus étudiés."
   ]
  },
  {
   "cell_type": "markdown",
   "metadata": {
    "id": "MZsDnE2j10cO"
   },
   "source": [
    "```markdown\n",
    "Votre réponse ici\n",
    "```"
   ]
  },
  {
   "cell_type": "markdown",
   "metadata": {
    "id": "lDmIuWXz18-J"
   },
   "source": [
    "# Exercice 3 : Gènes"
   ]
  },
  {
   "cell_type": "markdown",
   "metadata": {
    "id": "QCcmFeGf2BTn"
   },
   "source": [
    "Pour obtenir des informations plus précises sur les gènes contenus dans les différents organismes de genbank, nous allons travailler avec le fichier de résumé d'assemblage."
   ]
  },
  {
   "cell_type": "markdown",
   "metadata": {
    "id": "yVbG_vNb2OiI"
   },
   "source": [
    "Q1. Récupérez le fichier \"assembly_summary_genbank_historical.txt\" situé ici:\n",
    "https://ftp.ncbi.nlm.nih.gov/genomes/ASSEMBLY_REPORTS/\n",
    "\n",
    "(On utilise le fichier historique car il est plus petit, l’autre fichier fait >1GB)"
   ]
  },
  {
   "cell_type": "markdown",
   "metadata": {
    "id": "5DN-FBzu55j2"
   },
   "source": [
    "Q2. Qu'est-ce que le GC content ? Pourquoi est-il mesuré?"
   ]
  },
  {
   "cell_type": "markdown",
   "metadata": {
    "id": "1GdQhEom5-u7"
   },
   "source": [
    "```markdown\n",
    "Votre réponse ici\n",
    "```"
   ]
  },
  {
   "cell_type": "markdown",
   "metadata": {
    "id": "KsETs-jP2frR"
   },
   "source": [
    "Q3. Affichez la distribution du GC content dans tous les organismes de la liste, sous forme d'un violinplot."
   ]
  },
  {
   "cell_type": "code",
   "execution_count": 84,
   "metadata": {
    "id": "etKTcPws3Qur"
   },
   "outputs": [],
   "source": [
    "#Votre code ici"
   ]
  },
  {
   "cell_type": "markdown",
   "metadata": {
    "id": "IBOOujQm3R1n"
   },
   "source": []
  },
  {
   "cell_type": "markdown",
   "metadata": {
    "id": "S-4AN7J85XZX"
   },
   "source": [
    "Q4. Qu'observez-vous ?"
   ]
  },
  {
   "cell_type": "markdown",
   "metadata": {
    "id": "ExvmSOL55aaj"
   },
   "source": [
    "```markdown\n",
    "Votre réponse ici\n",
    "```"
   ]
  },
  {
   "cell_type": "markdown",
   "metadata": {
    "id": "IuVawXI55bk0"
   },
   "source": [
    "Q5. Affichez le GC content en fonction de la taille du génome, sous forme de scatter plot."
   ]
  },
  {
   "cell_type": "code",
   "execution_count": 89,
   "metadata": {
    "id": "u-h08VNY5pl8"
   },
   "outputs": [],
   "source": [
    "#Votre code ici"
   ]
  },
  {
   "cell_type": "markdown",
   "metadata": {
    "id": "bWa-pqkY5qcr"
   },
   "source": [
    "Q6. Qu'observez-vous ?"
   ]
  },
  {
   "cell_type": "markdown",
   "metadata": {
    "id": "h8KyylBE5sfv"
   },
   "source": [
    "```markdown\n",
    "Votre réponse ici\n",
    "```"
   ]
  },
  {
   "cell_type": "markdown",
   "metadata": {
    "id": "97dUv1eb6G9b"
   },
   "source": [
    "Q7. Affichez la distribution du nombre de gènes, choisissez le plot."
   ]
  },
  {
   "cell_type": "code",
   "execution_count": 93,
   "metadata": {
    "id": "hsuftnKk6UKt"
   },
   "outputs": [],
   "source": [
    "#Votre code ici"
   ]
  },
  {
   "cell_type": "markdown",
   "metadata": {
    "id": "a-45-z3x6XLw"
   },
   "source": [
    "Q8. Qu'observez-vous ?"
   ]
  },
  {
   "cell_type": "markdown",
   "metadata": {
    "id": "rBGfoSaM66Ta"
   },
   "source": [
    "```markdown\n",
    "Votre réponse ici\n",
    "```"
   ]
  },
  {
   "cell_type": "markdown",
   "metadata": {
    "id": "Aw3U7mwq67mn"
   },
   "source": [
    "Q9. Enlevez les données aberrantes (outliers)"
   ]
  },
  {
   "cell_type": "code",
   "execution_count": 97,
   "metadata": {
    "id": "_uiR78347EuM"
   },
   "outputs": [],
   "source": [
    "#Votre code ici"
   ]
  },
  {
   "cell_type": "markdown",
   "metadata": {
    "id": "iKXSZuhV7H-q"
   },
   "source": [
    "Q10. Comment avez-vous fait ? Quel seuil avez-vous choisi ?"
   ]
  },
  {
   "cell_type": "markdown",
   "metadata": {
    "id": "7tDIjrVc7M92"
   },
   "source": [
    "```markdown\n",
    "Votre réponse ici\n",
    "```"
   ]
  },
  {
   "cell_type": "markdown",
   "metadata": {
    "id": "EmZ7Ws1x7OIe"
   },
   "source": [
    "Q11. Y-a-t-il une corrélation entre taille du génome et nombre de gènes ?"
   ]
  },
  {
   "cell_type": "code",
   "execution_count": 101,
   "metadata": {
    "id": "jquRl-Pz7THy"
   },
   "outputs": [],
   "source": [
    "#Votre code ici"
   ]
  },
  {
   "cell_type": "markdown",
   "metadata": {
    "id": "1op22x767Y2F"
   },
   "source": [
    "# Exercice 4: GC-content"
   ]
  },
  {
   "cell_type": "markdown",
   "metadata": {
    "id": "usMP4N887cQQ"
   },
   "source": [
    "Pour une séquence $s$, le contenu en GC est défini par :\n",
    "\n",
    "$GC(s)=\\frac{\\#G(s) + \\#C(s)}{|s|}$,\n",
    "\n",
    "où $\\#N(s)$ est le nombre de nucléotides $N$ dans la séquence $s$ et $|s|$ est la taille de $s$."
   ]
  },
  {
   "cell_type": "markdown",
   "metadata": {
    "id": "ToE1SWAI75NJ"
   },
   "source": [
    "Q1. Récuperrez legénome de l’organisme *Acidianus ambivalens* à partir du FTP :\n",
    "\n",
    "https://ftp.ncbi.nlm.nih.gov/genomes/genbank/archaea/\n",
    "\n",
    "(dans latest_assembly_versions/GCA_009729015.1_ASM972901v1, le fichier avec l'extension \"fna.gz\")\n"
   ]
  },
  {
   "cell_type": "markdown",
   "metadata": {
    "id": "ucshnQUQ83cV"
   },
   "source": [
    "Q2. Affichez le GC content global."
   ]
  },
  {
   "cell_type": "code",
   "execution_count": 106,
   "metadata": {
    "id": "-QZhVkdH88dj"
   },
   "outputs": [],
   "source": [
    "#Votre code ici"
   ]
  },
  {
   "cell_type": "markdown",
   "metadata": {
    "id": "h9guJlTj89z9"
   },
   "source": [
    "Q3. Pour détecter des variations locales de GC, on va utiliser une fenêtre glissante de taille N nucléotides (démarrer à la position N/2 et finir à |s| -N/2).\n",
    "\n",
    "Affichez le GC content le long du génome pour des fenêtres de tailles 50, 1000 ou 10000."
   ]
  },
  {
   "cell_type": "code",
   "execution_count": 108,
   "metadata": {
    "id": "qFJb63wB9P5K"
   },
   "outputs": [],
   "source": [
    "#Votre code ici"
   ]
  },
  {
   "cell_type": "markdown",
   "metadata": {
    "id": "ClZ57OAi9Ran"
   },
   "source": [
    "Q4. Qu’observez-vous ?"
   ]
  },
  {
   "cell_type": "markdown",
   "metadata": {
    "id": "EJpHpyNk9S8D"
   },
   "source": [
    "```markdown\n",
    "Votre réponse ici\n",
    "```"
   ]
  },
  {
   "cell_type": "markdown",
   "metadata": {
    "id": "gL-egRkq9bgj"
   },
   "source": [
    "Q5. On va lisser le signal pour le rendre moins bruité en utilisant la fonction *savgol_filter* de *scipy.signal* avec les paramètres $51$ et $5$."
   ]
  },
  {
   "cell_type": "code",
   "execution_count": 112,
   "metadata": {
    "id": "vYbO1W0a9-Hz"
   },
   "outputs": [],
   "source": [
    "#Votre code ici"
   ]
  },
  {
   "cell_type": "markdown",
   "metadata": {
    "id": "W-X6zUqA9_du"
   },
   "source": [
    "Q6. Finalement, on va rendre le code générique pour n'importe quel espèce. Modifier votre code pour qu'il prenne en entrée un nom de fichier de génome du ftp, et une taille de fenêtre, et affiche le GC content global et local."
   ]
  },
  {
   "cell_type": "code",
   "execution_count": 114,
   "metadata": {
    "id": "QHjLwSJ2-TkO"
   },
   "outputs": [],
   "source": [
    "#Votre code ici"
   ]
  }
 ],
 "metadata": {
  "colab": {
   "provenance": []
  },
  "kernelspec": {
   "display_name": "Python [conda env:tf-gpu]",
   "language": "python",
   "name": "conda-env-tf-gpu-py"
  },
  "language_info": {
   "codemirror_mode": {
    "name": "ipython",
    "version": 3
   },
   "file_extension": ".py",
   "mimetype": "text/x-python",
   "name": "python",
   "nbconvert_exporter": "python",
   "pygments_lexer": "ipython3",
   "version": "3.9.18"
  }
 },
 "nbformat": 4,
 "nbformat_minor": 4
}
